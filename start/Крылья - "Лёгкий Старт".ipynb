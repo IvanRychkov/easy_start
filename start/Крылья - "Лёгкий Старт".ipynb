{
 "cells": [
  {
   "cell_type": "markdown",
   "metadata": {},
   "source": [
    "# Команда \"Крылья\" - проект \"Лёгкий старт\"\n",
    "##### Участники: Артур Сапрыкин, Иван Рычков\n",
    "- Мы искали такой подход к решению задачи, логику которого можно легко объяснить, и у нас самих не возникает путаницы в происходящем.\n",
    "- Постарались извлечь максимум пользы из тех данных, которые были нам предложены, и нам удалось найти в них взаимосвязи."
   ]
  },
  {
   "cell_type": "code",
   "execution_count": 1,
   "metadata": {},
   "outputs": [
    {
     "name": "stdout",
     "output_type": "stream",
     "text": [
      "Collecting git+https://github.com/ivanrychkov/toads\n",
      "  Cloning https://github.com/ivanrychkov/toads to /private/var/folders/vt/3gzr9th52r1bvnt2w165_bpw0000gn/T/pip-req-build-fybutoye\n",
      "Requirement already satisfied (use --upgrade to upgrade): toads-ivanrychkov==0.0.8.2 from git+https://github.com/ivanrychkov/toads in /opt/anaconda3/lib/python3.7/site-packages\n",
      "Building wheels for collected packages: toads-ivanrychkov\n",
      "  Building wheel for toads-ivanrychkov (setup.py) ... \u001b[?25ldone\n",
      "\u001b[?25h  Created wheel for toads-ivanrychkov: filename=toads_ivanrychkov-0.0.8.2-py3-none-any.whl size=11367 sha256=79e63c046aed70f9e76242e0bc61c7c1582b330899107342112229a98fbcbfae\n",
      "  Stored in directory: /private/var/folders/vt/3gzr9th52r1bvnt2w165_bpw0000gn/T/pip-ephem-wheel-cache-62hpkwk6/wheels/e2/3b/15/941c260ac8666ad497a66393d452203fcd98a6f55fbaa9ee37\n",
      "Successfully built toads-ivanrychkov\n"
     ]
    }
   ],
   "source": [
    "# Для корректной работы графиков нужно установить нашу библиотеку с GitHub\n",
    "!pip install git+https://github.com/ivanrychkov/toads"
   ]
  },
  {
   "cell_type": "code",
   "execution_count": 2,
   "metadata": {},
   "outputs": [],
   "source": [
    "import pandas as pd\n",
    "from toads.image import Image\n",
    "import seaborn as sns\n",
    "import matplotlib.pyplot as plt"
   ]
  },
  {
   "cell_type": "markdown",
   "metadata": {},
   "source": [
    "---"
   ]
  },
  {
   "cell_type": "markdown",
   "metadata": {},
   "source": [
    "## Территориальное деление Москвы\n",
    "\n",
    "- В качестве территориальной единицы мы взяли область вокруг почтового отделения.\n",
    "- Чтобы объединить почты с районами и метро, Мы воспользовались Геокодером от Яндекса:\n",
    "    - Скачали адреса всех почтовых отделений,\n",
    "    - Получили координаты почт, районов и станций метро через API геокодера.\n",
    "    - Объединили их с помощью кластеризации K-Means, подтянув координаты индексов к координатам районов и метро.\n",
    "    - В результате у нас получился датасет из почтовых отделений, районов и станций метро."
   ]
  },
  {
   "cell_type": "code",
   "execution_count": 3,
   "metadata": {},
   "outputs": [
    {
     "data": {
      "text/html": [
       "<div>\n",
       "<style scoped>\n",
       "    .dataframe tbody tr th:only-of-type {\n",
       "        vertical-align: middle;\n",
       "    }\n",
       "\n",
       "    .dataframe tbody tr th {\n",
       "        vertical-align: top;\n",
       "    }\n",
       "\n",
       "    .dataframe thead th {\n",
       "        text-align: right;\n",
       "    }\n",
       "</style>\n",
       "<table border=\"1\" class=\"dataframe\">\n",
       "  <thead>\n",
       "    <tr style=\"text-align: right;\">\n",
       "      <th></th>\n",
       "      <th>post_idx</th>\n",
       "      <th>latitude_post</th>\n",
       "      <th>longitude_post</th>\n",
       "      <th>district_idx</th>\n",
       "      <th>district</th>\n",
       "      <th>latitude_dsct</th>\n",
       "      <th>longitude_dsct</th>\n",
       "      <th>metro_idx</th>\n",
       "      <th>metro</th>\n",
       "      <th>latitude_mtr</th>\n",
       "      <th>longitude_mtr</th>\n",
       "    </tr>\n",
       "  </thead>\n",
       "  <tbody>\n",
       "    <tr>\n",
       "      <th>232</th>\n",
       "      <td>121099</td>\n",
       "      <td>55.749435</td>\n",
       "      <td>37.582179</td>\n",
       "      <td>3</td>\n",
       "      <td>Арбат</td>\n",
       "      <td>55.751138</td>\n",
       "      <td>37.590003</td>\n",
       "      <td>173</td>\n",
       "      <td>Смоленская</td>\n",
       "      <td>55.748756</td>\n",
       "      <td>37.582161</td>\n",
       "    </tr>\n",
       "    <tr>\n",
       "      <th>349</th>\n",
       "      <td>117588</td>\n",
       "      <td>55.605241</td>\n",
       "      <td>37.530822</td>\n",
       "      <td>141</td>\n",
       "      <td>Ясенево</td>\n",
       "      <td>55.607514</td>\n",
       "      <td>37.534577</td>\n",
       "      <td>234</td>\n",
       "      <td>Ясенево</td>\n",
       "      <td>55.606182</td>\n",
       "      <td>37.533400</td>\n",
       "    </tr>\n",
       "    <tr>\n",
       "      <th>124</th>\n",
       "      <td>105122</td>\n",
       "      <td>55.804273</td>\n",
       "      <td>37.762210</td>\n",
       "      <td>63</td>\n",
       "      <td>Метрогородок</td>\n",
       "      <td>55.823616</td>\n",
       "      <td>37.755832</td>\n",
       "      <td>92</td>\n",
       "      <td>Локомотив</td>\n",
       "      <td>55.803130</td>\n",
       "      <td>37.746058</td>\n",
       "    </tr>\n",
       "    <tr>\n",
       "      <th>25</th>\n",
       "      <td>108807</td>\n",
       "      <td>55.521710</td>\n",
       "      <td>37.220957</td>\n",
       "      <td>86</td>\n",
       "      <td>Первомайское</td>\n",
       "      <td>55.519723</td>\n",
       "      <td>37.218334</td>\n",
       "      <td>158</td>\n",
       "      <td>Рассказовка</td>\n",
       "      <td>55.633968</td>\n",
       "      <td>37.334747</td>\n",
       "    </tr>\n",
       "    <tr>\n",
       "      <th>244</th>\n",
       "      <td>127422</td>\n",
       "      <td>55.814705</td>\n",
       "      <td>37.563808</td>\n",
       "      <td>117</td>\n",
       "      <td>Тимирязевский</td>\n",
       "      <td>55.825527</td>\n",
       "      <td>37.557071</td>\n",
       "      <td>190</td>\n",
       "      <td>Тимирязевская</td>\n",
       "      <td>55.818695</td>\n",
       "      <td>37.575271</td>\n",
       "    </tr>\n",
       "  </tbody>\n",
       "</table>\n",
       "</div>"
      ],
      "text/plain": [
       "     post_idx  latitude_post  longitude_post  district_idx       district  \\\n",
       "232    121099      55.749435       37.582179             3          Арбат   \n",
       "349    117588      55.605241       37.530822           141        Ясенево   \n",
       "124    105122      55.804273       37.762210            63   Метрогородок   \n",
       "25     108807      55.521710       37.220957            86   Первомайское   \n",
       "244    127422      55.814705       37.563808           117  Тимирязевский   \n",
       "\n",
       "     latitude_dsct  longitude_dsct  metro_idx          metro  latitude_mtr  \\\n",
       "232      55.751138       37.590003        173     Смоленская     55.748756   \n",
       "349      55.607514       37.534577        234        Ясенево     55.606182   \n",
       "124      55.823616       37.755832         92      Локомотив     55.803130   \n",
       "25       55.519723       37.218334        158    Рассказовка     55.633968   \n",
       "244      55.825527       37.557071        190  Тимирязевская     55.818695   \n",
       "\n",
       "     longitude_mtr  \n",
       "232      37.582161  \n",
       "349      37.533400  \n",
       "124      37.746058  \n",
       "25       37.334747  \n",
       "244      37.575271  "
      ]
     },
     "execution_count": 3,
     "metadata": {},
     "output_type": "execute_result"
    }
   ],
   "source": [
    "pd.read_csv('geo_full.csv').sample(5)"
   ]
  },
  {
   "cell_type": "markdown",
   "metadata": {},
   "source": [
    "---"
   ]
  },
  {
   "cell_type": "markdown",
   "metadata": {},
   "source": [
    "## Подбор локации\n",
    "- В базе данных **ФИАС** мы получили количество домов, привязанных к каждому почтовому индексу - благодаря этому не пришлось усреднять население на одну почту, а удалось посчитать примерную долю населения, привязанную к каждому отдельному индексу (`index_weight`).\n",
    "- Это более точный подход, чем усреднение.\n",
    "\n",
    "Таблица с населением на почтовый индекс выглядит вот так:"
   ]
  },
  {
   "cell_type": "code",
   "execution_count": 4,
   "metadata": {},
   "outputs": [],
   "source": [
    "demo = pd.read_csv('index_people_data.csv').drop('sum', axis=1)\n",
    "demo.person_exemption_group.fillna('', inplace=True)"
   ]
  },
  {
   "cell_type": "code",
   "execution_count": 5,
   "metadata": {},
   "outputs": [
    {
     "data": {
      "text/html": [
       "<div>\n",
       "<style scoped>\n",
       "    .dataframe tbody tr th:only-of-type {\n",
       "        vertical-align: middle;\n",
       "    }\n",
       "\n",
       "    .dataframe tbody tr th {\n",
       "        vertical-align: top;\n",
       "    }\n",
       "\n",
       "    .dataframe thead th {\n",
       "        text-align: right;\n",
       "    }\n",
       "</style>\n",
       "<table border=\"1\" class=\"dataframe\">\n",
       "  <thead>\n",
       "    <tr style=\"text-align: right;\">\n",
       "      <th></th>\n",
       "      <th>post_idx</th>\n",
       "      <th>index_weight</th>\n",
       "      <th>house_district</th>\n",
       "      <th>person_gender</th>\n",
       "      <th>Возрастной класс</th>\n",
       "      <th>person_exemption_group</th>\n",
       "      <th>index_sum</th>\n",
       "    </tr>\n",
       "  </thead>\n",
       "  <tbody>\n",
       "    <tr>\n",
       "      <th>0</th>\n",
       "      <td>117036</td>\n",
       "      <td>0.11025</td>\n",
       "      <td>Академический</td>\n",
       "      <td>f</td>\n",
       "      <td>18-25</td>\n",
       "      <td>Многодетные</td>\n",
       "      <td>11</td>\n",
       "    </tr>\n",
       "    <tr>\n",
       "      <th>1</th>\n",
       "      <td>117036</td>\n",
       "      <td>0.11025</td>\n",
       "      <td>Академический</td>\n",
       "      <td>f</td>\n",
       "      <td>18-25</td>\n",
       "      <td></td>\n",
       "      <td>429</td>\n",
       "    </tr>\n",
       "    <tr>\n",
       "      <th>2</th>\n",
       "      <td>117036</td>\n",
       "      <td>0.11025</td>\n",
       "      <td>Академический</td>\n",
       "      <td>f</td>\n",
       "      <td>25-45</td>\n",
       "      <td>Беременность</td>\n",
       "      <td>35</td>\n",
       "    </tr>\n",
       "    <tr>\n",
       "      <th>3</th>\n",
       "      <td>117036</td>\n",
       "      <td>0.11025</td>\n",
       "      <td>Академический</td>\n",
       "      <td>f</td>\n",
       "      <td>25-45</td>\n",
       "      <td>Инвалид</td>\n",
       "      <td>17</td>\n",
       "    </tr>\n",
       "    <tr>\n",
       "      <th>4</th>\n",
       "      <td>117036</td>\n",
       "      <td>0.11025</td>\n",
       "      <td>Академический</td>\n",
       "      <td>f</td>\n",
       "      <td>25-45</td>\n",
       "      <td>Малоимущие</td>\n",
       "      <td>0</td>\n",
       "    </tr>\n",
       "  </tbody>\n",
       "</table>\n",
       "</div>"
      ],
      "text/plain": [
       "   post_idx  index_weight house_district person_gender Возрастной класс  \\\n",
       "0    117036       0.11025  Академический             f            18-25   \n",
       "1    117036       0.11025  Академический             f            18-25   \n",
       "2    117036       0.11025  Академический             f            25-45   \n",
       "3    117036       0.11025  Академический             f            25-45   \n",
       "4    117036       0.11025  Академический             f            25-45   \n",
       "\n",
       "  person_exemption_group  index_sum  \n",
       "0            Многодетные         11  \n",
       "1                               429  \n",
       "2           Беременность         35  \n",
       "3                Инвалид         17  \n",
       "4             Малоимущие          0  "
      ]
     },
     "execution_count": 5,
     "metadata": {},
     "output_type": "execute_result"
    }
   ],
   "source": [
    "demo.head()"
   ]
  },
  {
   "cell_type": "markdown",
   "metadata": {},
   "source": [
    "Покажем на примере районов, как можно подбирать локацию по параметрам целевой аудитории."
   ]
  },
  {
   "cell_type": "code",
   "execution_count": 6,
   "metadata": {},
   "outputs": [],
   "source": [
    "def get_best_location(gender=None, age=None, exemptions=None, max_entries=None):\n",
    "    global demo\n",
    "    df = demo.copy()\n",
    "    \n",
    "    if gender is not None:\n",
    "        if isinstance(gender, str):\n",
    "            gender = [gender]\n",
    "        df = df[df.person_gender.isin(gender)]\n",
    "    if age is not None:\n",
    "        if isinstance(age, str):\n",
    "            age = [age]\n",
    "        df = df[df['Возрастной класс'].isin(age)]\n",
    "    if exemptions is not None:\n",
    "        if isinstance(exemptions, str):\n",
    "            exemptions = [exemptions]\n",
    "        df = df[df.person_exemption_group.isin(exemptions)]\n",
    "    \n",
    "    group_args = [key for key, arg\n",
    "                 in zip(\n",
    "                     ('person_gender', 'Возрастной класс', 'person_exemption_group'),\n",
    "                     (gender, age, exemptions))\n",
    "                  if arg is not None]\n",
    "    \n",
    "    result = df.groupby(['house_district'] + group_args).agg({'index_sum': 'sum'})\\\n",
    "             .reset_index().drop(group_args, axis=1).groupby('house_district').sum()\\\n",
    "             .sort_values('index_sum', ascending=False).head(max_entries if max_entries else 5)\n",
    "    \n",
    "    if result.shape[0] > 0:\n",
    "            with Image(st='Районы с релевантной аудиторией'):\n",
    "                sns.barplot(x=result.index, y=result.index_sum / result.index_sum.max(), )\n",
    "                plt.xticks(rotation=25)\n",
    "                Image.format_axis(1)\n",
    "                Image.labels('Район', 'Релевантность')\n",
    "    else:\n",
    "        print('Нет районов, соответствующих критериям!')"
   ]
  },
  {
   "cell_type": "markdown",
   "metadata": {},
   "source": [
    "Ниже интерактивный вариант с диаграммами. Мы приводим не численность населения, а отмасштабированные от 0 до 1 значения, где 0 - минимум, а 1 - максимум. Это скроет числа и сделает вывод более интерпретируемым. Назовём это релевантностью."
   ]
  },
  {
   "cell_type": "code",
   "execution_count": 7,
   "metadata": {
    "jupyter": {
     "source_hidden": true
    }
   },
   "outputs": [],
   "source": [
    "import ipywidgets as widgets\n",
    "from ipywidgets import interact"
   ]
  },
  {
   "cell_type": "code",
   "execution_count": 8,
   "metadata": {
    "jupyter": {
     "source_hidden": true
    }
   },
   "outputs": [],
   "source": [
    "# Обозначим виджеты с выбором категорий\n",
    "g_sel, age_sel, ex_sel = [widgets.SelectMultiple(options=list(v), value=tuple(v))\n",
    "                          for v in [demo['person_gender'].unique(),\n",
    "                                    demo['Возрастной класс'].unique(),\n",
    "                                    demo['person_exemption_group'].unique()]]"
   ]
  },
  {
   "cell_type": "code",
   "execution_count": 9,
   "metadata": {},
   "outputs": [
    {
     "name": "stdout",
     "output_type": "stream",
     "text": [
      "\n",
      "Выберите интересующие категории:\n",
      "\n"
     ]
    },
    {
     "data": {
      "application/vnd.jupyter.widget-view+json": {
       "model_id": "ff1c079f4ec34c2db211d1d5e6f2eba5",
       "version_major": 2,
       "version_minor": 0
      },
      "text/plain": [
       "interactive(children=(SelectMultiple(description='gender', index=(0, 1), options=('f', 'm'), value=('f', 'm'))…"
      ]
     },
     "metadata": {},
     "output_type": "display_data"
    }
   ],
   "source": [
    "print('\\nВыберите интересующие категории:\\n')\n",
    "p = interact(get_best_location, age=age_sel, gender=g_sel, exemptions=ex_sel, max_entries=(1, 15))"
   ]
  },
  {
   "cell_type": "markdown",
   "metadata": {},
   "source": [
    "##### Безусловно, если мы будем считать аудиторию не по районам, а по почтовым индексам, мы получим большую детализацию. И у нас эти данные есть."
   ]
  },
  {
   "cell_type": "markdown",
   "metadata": {},
   "source": [
    "---"
   ]
  },
  {
   "cell_type": "markdown",
   "metadata": {},
   "source": [
    "## Скоринг\n",
    "Аналогично тому, что мы показали выше, мы попробовали отмасштабировать информацию о поездках на метро и получили полный скоринг на примере районов. Эти данные можно легко применить к почтовым зонам, потому что у нас есть соответствующие ключи для связки."
   ]
  },
  {
   "cell_type": "code",
   "execution_count": 10,
   "metadata": {},
   "outputs": [],
   "source": [
    "metro_score = pd.read_csv('index_points.csv')"
   ]
  },
  {
   "cell_type": "code",
   "execution_count": 11,
   "metadata": {},
   "outputs": [
    {
     "data": {
      "text/html": [
       "<div>\n",
       "<style scoped>\n",
       "    .dataframe tbody tr th:only-of-type {\n",
       "        vertical-align: middle;\n",
       "    }\n",
       "\n",
       "    .dataframe tbody tr th {\n",
       "        vertical-align: top;\n",
       "    }\n",
       "\n",
       "    .dataframe thead th {\n",
       "        text-align: right;\n",
       "    }\n",
       "</style>\n",
       "<table border=\"1\" class=\"dataframe\">\n",
       "  <thead>\n",
       "    <tr style=\"text-align: right;\">\n",
       "      <th></th>\n",
       "      <th>metro</th>\n",
       "      <th>median_v_cnt</th>\n",
       "      <th>index_sum</th>\n",
       "      <th>arrival_cnt</th>\n",
       "      <th>inhabit_points</th>\n",
       "      <th>arrival_points</th>\n",
       "      <th>full_points</th>\n",
       "    </tr>\n",
       "  </thead>\n",
       "  <tbody>\n",
       "    <tr>\n",
       "      <th>0</th>\n",
       "      <td>Пятницкое шоссе</td>\n",
       "      <td>122104.0</td>\n",
       "      <td>32944.0</td>\n",
       "      <td>89160.0</td>\n",
       "      <td>0.652956</td>\n",
       "      <td>0.008467</td>\n",
       "      <td>0.661423</td>\n",
       "    </tr>\n",
       "    <tr>\n",
       "      <th>1</th>\n",
       "      <td>Мякинино</td>\n",
       "      <td>171482.0</td>\n",
       "      <td>53468.0</td>\n",
       "      <td>118014.0</td>\n",
       "      <td>0.630472</td>\n",
       "      <td>0.011207</td>\n",
       "      <td>0.641679</td>\n",
       "    </tr>\n",
       "    <tr>\n",
       "      <th>2</th>\n",
       "      <td>Улица Скобелевская</td>\n",
       "      <td>137226.5</td>\n",
       "      <td>51053.0</td>\n",
       "      <td>86173.5</td>\n",
       "      <td>0.470928</td>\n",
       "      <td>0.008184</td>\n",
       "      <td>0.479112</td>\n",
       "    </tr>\n",
       "    <tr>\n",
       "      <th>3</th>\n",
       "      <td>Щёлковская</td>\n",
       "      <td>566744.0</td>\n",
       "      <td>2697.0</td>\n",
       "      <td>564047.0</td>\n",
       "      <td>0.016099</td>\n",
       "      <td>0.053565</td>\n",
       "      <td>0.069664</td>\n",
       "    </tr>\n",
       "    <tr>\n",
       "      <th>4</th>\n",
       "      <td>Хорошёво</td>\n",
       "      <td>69146.0</td>\n",
       "      <td>39645.0</td>\n",
       "      <td>29501.0</td>\n",
       "      <td>0.362937</td>\n",
       "      <td>0.002802</td>\n",
       "      <td>0.365738</td>\n",
       "    </tr>\n",
       "  </tbody>\n",
       "</table>\n",
       "</div>"
      ],
      "text/plain": [
       "                metro  median_v_cnt  index_sum  arrival_cnt  inhabit_points  \\\n",
       "0     Пятницкое шоссе      122104.0    32944.0      89160.0        0.652956   \n",
       "1            Мякинино      171482.0    53468.0     118014.0        0.630472   \n",
       "2  Улица Скобелевская      137226.5    51053.0      86173.5        0.470928   \n",
       "3          Щёлковская      566744.0     2697.0     564047.0        0.016099   \n",
       "4            Хорошёво       69146.0    39645.0      29501.0        0.362937   \n",
       "\n",
       "   arrival_points  full_points  \n",
       "0        0.008467     0.661423  \n",
       "1        0.011207     0.641679  \n",
       "2        0.008184     0.479112  \n",
       "3        0.053565     0.069664  \n",
       "4        0.002802     0.365738  "
      ]
     },
     "execution_count": 11,
     "metadata": {},
     "output_type": "execute_result"
    }
   ],
   "source": [
    "metro_score.head()"
   ]
  },
  {
   "cell_type": "markdown",
   "metadata": {},
   "source": [
    "---"
   ]
  },
  {
   "cell_type": "markdown",
   "metadata": {},
   "source": [
    "## Вывод\n",
    "- В связи с тем, что у нас ограничено время, мы постарались заложить основу для удобной работы с данными.\n",
    "- Нашли способ объединить географические данные между собой через координаты. За единицу территории взяли почтовое отделение.\n",
    "- Собрали датасет, в котором вывели приблизительную численность каждой аудитории для каждого почтового отделения.\n",
    "- Предложили подбор локации, основанный на целевой аудитории и трафике метрополитена.\n",
    "- Добавили возможность поэкспериментировать с подбором района по аудитории в интерактивном режиме."
   ]
  },
  {
   "cell_type": "markdown",
   "metadata": {},
   "source": [
    "---"
   ]
  },
  {
   "cell_type": "markdown",
   "metadata": {},
   "source": [
    "## Что дальше?\n",
    "У нас остались вопросы, на которые ещё предстоит ответить.\n",
    "\n",
    "### Что, если все предприниматели бросятся в одно место?\n",
    "- В ходе второго чек-ина возникла идея о том, что **предприниматели с одинаковыми товарами/услугами** могут заполонить район из-за того, что в нём присутствует целевая аудитория, и мы рекомендуем его всем подряд (самые населённые районы - Марьино и Южное Бутово - в зоне риска). **У нас есть идея, как этого не допустить**: наш сервис можно научить обращаться к API Яндекс.Карт или 2GIS при подборе локации, чтобы найти поблизости бизнесы с аналогичными услугами, на их основе сделать предположение о возможной конкуренции и включить это значение в скоринг. Например, *количество аналогичных бизнесов на одного потенциального пользователя*. **Высокая конкуренция - меньше рекомендуем, и наоборот**. Щепетильным моментом здесь является то, что бесплатно можно сделать лишь небольшое количество запросов к API картографических сервисов.\n",
    "\n",
    "### Можно ли подобрать аудиторию автоматически по товару?\n",
    "- Мы предполагаем, что возможной наводкой на аудиторию будет **семантика** в категориях товаров, например:\n",
    "    - Игрушки - Дети\n",
    "    - Лекарства - Пенсионеры\n",
    "    - Бытовая техника - Молодая семья\n",
    "    - Эконом-товары - Малоимущие\n",
    "    \n",
    "    С помощью правильной категоризации товаров и аудиторий и перевода их словесных названий в векторное представление мы можем попытаться **соотнести категории товаров/услуг с разными аудиториями** через кластеризацию по смысловым характеристикам слов.\n",
    "- Как вариант, можно подбирать аудиторию, воспользовавшись готовыми данными, сформированными из поведения пользователей, или на основе опросов (например, во время подключения Wi-Fi в метро)."
   ]
  },
  {
   "cell_type": "markdown",
   "metadata": {},
   "source": [
    "---"
   ]
  }
 ],
 "metadata": {
  "kernelspec": {
   "display_name": "Python 3",
   "language": "python",
   "name": "python3"
  },
  "language_info": {
   "codemirror_mode": {
    "name": "ipython",
    "version": 3
   },
   "file_extension": ".py",
   "mimetype": "text/x-python",
   "name": "python",
   "nbconvert_exporter": "python",
   "pygments_lexer": "ipython3",
   "version": "3.7.8"
  }
 },
 "nbformat": 4,
 "nbformat_minor": 4
}
